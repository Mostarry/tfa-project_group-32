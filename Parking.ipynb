{
 "cells": [
  {
   "cell_type": "code",
   "execution_count": 8,
   "id": "cc67019e",
   "metadata": {},
   "outputs": [],
   "source": [
    "import pandas as pd"
   ]
  },
  {
   "cell_type": "code",
   "execution_count": 9,
   "id": "45994376",
   "metadata": {},
   "outputs": [
    {
     "name": "stderr",
     "output_type": "stream",
     "text": [
      "/Users/jiaxinli/opt/anaconda3/lib/python3.8/site-packages/IPython/core/interactiveshell.py:3165: DtypeWarning: Columns (20,31,32) have mixed types.Specify dtype option on import or set low_memory=False.\n",
      "  has_raised = await self.run_ast_nodes(code_ast.body, cell_name,\n"
     ]
    }
   ],
   "source": [
    "# Extract data from csv to dataframe using pandas\n",
    "df = pd.read_csv('311_Service_Requests_2020.csv')"
   ]
  },
  {
   "cell_type": "code",
   "execution_count": 10,
   "id": "a0b81dee",
   "metadata": {},
   "outputs": [],
   "source": [
    "# select all data with zip code 10019\n",
    "chosenzip = df[df[\"Incident Zip\"] == 10019.0]"
   ]
  },
  {
   "cell_type": "code",
   "execution_count": 11,
   "id": "f3683f21",
   "metadata": {},
   "outputs": [
    {
     "data": {
      "text/plain": [
       "0.0656794998354722"
      ]
     },
     "execution_count": 11,
     "metadata": {},
     "output_type": "execute_result"
    }
   ],
   "source": [
    "# calculate the amount of illegal parking complaints in chosen zip code area\n",
    "zipparking = len(chosenzip[chosenzip[\"Complaint Type\"] == \"Illegal Parking\"].index)\n",
    "\n",
    "# calculate the amount of all parking complaints in chosen zip code area\n",
    "zipall = len(chosenzip.index)\n",
    "\n",
    "# calculate the illegal parking ratio within all parking complaints in chosen zip code area\n",
    "zipparkingfraction = zipparking/zipall\n",
    "zipparkingfraction"
   ]
  },
  {
   "cell_type": "code",
   "execution_count": 12,
   "id": "c48382f1",
   "metadata": {},
   "outputs": [
    {
     "data": {
      "text/plain": [
       "0.07487334365033108"
      ]
     },
     "execution_count": 12,
     "metadata": {},
     "output_type": "execute_result"
    }
   ],
   "source": [
    "# calculate the amount of illegal parking complaints in NYC\n",
    "allparking = len(df[df[\"Complaint Type\"] == \"Illegal Parking\"].index)\n",
    "\n",
    "# calculate the amount of all parking complaints in NYC\n",
    "generalall = len(df.index)\n",
    "\n",
    "# calculate the illegal parking ratio within all parking complaints in NYC\n",
    "allparkingfraction = allparking/generalall\n",
    "allparkingfraction"
   ]
  },
  {
   "cell_type": "code",
   "execution_count": 13,
   "id": "9b8ff134",
   "metadata": {},
   "outputs": [
    {
     "data": {
      "text/plain": [
       "False"
      ]
     },
     "execution_count": 13,
     "metadata": {},
     "output_type": "execute_result"
    }
   ],
   "source": [
    "# Check if the ratio in the chosen zip code area is greater than that in all area of NYC\n",
    "higher_parking_proportion = zipparkingfraction > allparkingfraction\n",
    "higher_parking_proportion"
   ]
  },
  {
   "cell_type": "code",
   "execution_count": null,
   "id": "42fb9f17-902f-4067-b51b-d643ef0384b9",
   "metadata": {},
   "outputs": [],
   "source": []
  }
 ],
 "metadata": {
  "kernelspec": {
   "display_name": "Python 3",
   "language": "python",
   "name": "python3"
  },
  "language_info": {
   "codemirror_mode": {
    "name": "ipython",
    "version": 3
   },
   "file_extension": ".py",
   "mimetype": "text/x-python",
   "name": "python",
   "nbconvert_exporter": "python",
   "pygments_lexer": "ipython3",
   "version": "3.8.8"
  }
 },
 "nbformat": 4,
 "nbformat_minor": 5
}
