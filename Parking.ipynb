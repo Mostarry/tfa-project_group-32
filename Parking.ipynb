{
 "cells": [
  {
   "cell_type": "code",
   "execution_count": 18,
   "id": "cc67019e",
   "metadata": {},
   "outputs": [],
   "source": [
    "import pandas as pd\n",
    "import numpy as np\n",
    "import csv"
   ]
  },
  {
   "cell_type": "code",
   "execution_count": null,
   "id": "45994376",
   "metadata": {},
   "outputs": [],
   "source": [
    "df = pd.read_csv(r'C:\\Users\\Huawei\\Desktop\\311_Service_Requests_2020.csv')"
   ]
  },
  {
   "cell_type": "code",
   "execution_count": null,
   "id": "616d6b03",
   "metadata": {},
   "outputs": [],
   "source": [
    "df"
   ]
  },
  {
   "cell_type": "code",
   "execution_count": null,
   "id": "a0b81dee",
   "metadata": {},
   "outputs": [],
   "source": [
    "chosenzip = df[df[\"Incident Zip\"] == 10019.0]\n",
    "chosenzip"
   ]
  },
  {
   "cell_type": "code",
   "execution_count": null,
   "id": "f3683f21",
   "metadata": {},
   "outputs": [],
   "source": [
    "zipparking = len(chosenzip[chosenzip[\"Complaint Type\"] == \"Illegal Parking\"].index)\n",
    "zipall1 = len(chosenzip.index)\n",
    "zipall2 = chosenzip[\"Complaint Type\"].count()\n",
    "zip\n",
    "#zipparkingfraction = zipparking/zipall\n",
    "#zipparkingfraction"
   ]
  },
  {
   "cell_type": "code",
   "execution_count": null,
   "id": "c48382f1",
   "metadata": {},
   "outputs": [],
   "source": [
    "allparking = len(df[df[\"Complaint Type\"] == \"Illegal Parking\"].index)\n",
    "generalall = len(df.index)\n",
    "allparkingfraction = allparking/generalall\n",
    "allparkingfraction"
   ]
  },
  {
   "cell_type": "code",
   "execution_count": null,
   "id": "9b8ff134",
   "metadata": {},
   "outputs": [],
   "source": [
    "higher_parking_proportion = zipparkingfraction > allparkingfraction\n",
    "higher_parking_proportion"
   ]
  },
  {
   "cell_type": "code",
   "execution_count": null,
   "id": "42fb9f17-902f-4067-b51b-d643ef0384b9",
   "metadata": {},
   "outputs": [],
   "source": []
  }
 ],
 "metadata": {
  "kernelspec": {
   "display_name": "Python 3",
   "language": "python",
   "name": "python3"
  },
  "language_info": {
   "codemirror_mode": {
    "name": "ipython",
    "version": 3
   },
   "file_extension": ".py",
   "mimetype": "text/x-python",
   "name": "python",
   "nbconvert_exporter": "python",
   "pygments_lexer": "ipython3",
   "version": "3.8.8"
  }
 },
 "nbformat": 4,
 "nbformat_minor": 5
}
