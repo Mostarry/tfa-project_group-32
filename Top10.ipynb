{
 "cells": [
  {
   "cell_type": "code",
   "execution_count": 1,
   "id": "8846cba4",
   "metadata": {},
   "outputs": [],
   "source": [
    "import pandas as pd"
   ]
  },
  {
   "cell_type": "code",
   "execution_count": 2,
   "id": "0d3314d7",
   "metadata": {},
   "outputs": [
    {
     "name": "stderr",
     "output_type": "stream",
     "text": [
      "/Users/jiaxinli/opt/anaconda3/lib/python3.8/site-packages/IPython/core/interactiveshell.py:3165: DtypeWarning: Columns (20,31,32) have mixed types.Specify dtype option on import or set low_memory=False.\n",
      "  has_raised = await self.run_ast_nodes(code_ast.body, cell_name,\n"
     ]
    }
   ],
   "source": [
    "# convert the data from csv to dataframe using pandas\n",
    "df = pd.read_csv('311_Service_Requests_2020.csv')"
   ]
  },
  {
   "cell_type": "code",
   "execution_count": 3,
   "id": "b2c09f49",
   "metadata": {},
   "outputs": [],
   "source": [
    "# select all data with zip code 10019\n",
    "chosenzip = df[df['Incident Zip'] == 10019.0]"
   ]
  },
  {
   "cell_type": "code",
   "execution_count": 4,
   "id": "a72f559f",
   "metadata": {},
   "outputs": [],
   "source": [
    "# count the number of complaints for each type,\n",
    "# Then put the type of complaints with its coressponding amounts in descending orders into a series; \n",
    "# Select top 10 of the series as the result\n",
    "top10 = chosenzip['Complaint Type'].value_counts(ascending = False).head(10)\n"
   ]
  },
  {
   "cell_type": "code",
   "execution_count": 5,
   "id": "29ecdcee",
   "metadata": {},
   "outputs": [
    {
     "name": "stdout",
     "output_type": "stream",
     "text": [
      "<class 'pandas.core.series.Series'>\n",
      "Noise - Street/Sidewalk                1299\n",
      "Noise - Residential                    1144\n",
      "Homeless Person Assistance             1116\n",
      "Noise                                  1066\n",
      "Illegal Parking                         998\n",
      "HEAT/HOT WATER                          866\n",
      "Noise - Commercial                      811\n",
      "Non-Emergency Police Matter             776\n",
      "Homeless Street Condition               658\n",
      "NonCompliance with Phased Reopening     620\n",
      "Name: Complaint Type, dtype: int64\n"
     ]
    }
   ],
   "source": [
    "print(type(top10))\n",
    "print(top10)"
   ]
  }
 ],
 "metadata": {
  "kernelspec": {
   "display_name": "Python 3",
   "language": "python",
   "name": "python3"
  },
  "language_info": {
   "codemirror_mode": {
    "name": "ipython",
    "version": 3
   },
   "file_extension": ".py",
   "mimetype": "text/x-python",
   "name": "python",
   "nbconvert_exporter": "python",
   "pygments_lexer": "ipython3",
   "version": "3.8.8"
  }
 },
 "nbformat": 4,
 "nbformat_minor": 5
}
